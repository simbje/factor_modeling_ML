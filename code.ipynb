{
 "cells": [
  {
   "cell_type": "code",
   "execution_count": null,
   "metadata": {},
   "outputs": [],
   "source": [
    "# Faktor modelering med maskin modelering\n",
    "# Bygge Modell\n",
    "# Mål - trene på programmering, maskinlæring og finansiell modellering\n",
    "\n",
    "#Inspirasjon: https://medium.com/@yannisyuan/factor-investing-with-machine-learning-822fb62948c3\n",
    "\n",
    "# git link: https://github.com/simbje/factor_modelling_machine.git"
   ]
  },
  {
   "cell_type": "code",
   "execution_count": 20,
   "metadata": {},
   "outputs": [],
   "source": [
    "# Prerequisites\n",
    "\n",
    "import pandas as pd\n",
    "import numpy as np\n"
   ]
  },
  {
   "cell_type": "code",
   "execution_count": 21,
   "metadata": {},
   "outputs": [],
   "source": [
    "#load file\n",
    "\n",
    "\n",
    "#data = pd.read_csv('data.csv')\n",
    "data = pd.read_csv(r'C:\\Users\\simbj\\OneDrive\\Python\\data_factor\\data\\data_factor.csv')\n"
   ]
  },
  {
   "cell_type": "code",
   "execution_count": 18,
   "metadata": {},
   "outputs": [
    {
     "data": {
      "text/plain": [
       "permno          int64\n",
       "DATE            int64\n",
       "mvel1         float64\n",
       "beta          float64\n",
       "betasq        float64\n",
       "               ...   \n",
       "retvol        float64\n",
       "std_dolvol    float64\n",
       "std_turn      float64\n",
       "zerotrade     float64\n",
       "sic2          float64\n",
       "Length: 97, dtype: object"
      ]
     },
     "execution_count": 18,
     "metadata": {},
     "output_type": "execute_result"
    }
   ],
   "source": [
    "# data eexploratin\n",
    "data.dtypes\n",
    "\n",
    "#"
   ]
  },
  {
   "cell_type": "markdown",
   "metadata": {},
   "source": [
    "# Defining Fama-french model\n",
    "\n",
    "start by selecting Fama-French-Carhart factors, namely market (“beta”), size (“mvel1”), value (“bm”) and momentum (“mom12m”), from the characteristics dataset"
   ]
  },
  {
   "cell_type": "code",
   "execution_count": 19,
   "metadata": {},
   "outputs": [
    {
     "ename": "KeyError",
     "evalue": "\"['exret'] not in index\"",
     "output_type": "error",
     "traceback": [
      "\u001b[1;31m---------------------------------------------------------------------------\u001b[0m",
      "\u001b[1;31mKeyError\u001b[0m                                  Traceback (most recent call last)",
      "\u001b[1;32mc:\\Users\\simbj\\OneDrive\\Python\\factor_modeling\\factor_modelling_machine\\code.ipynb Cell 6\u001b[0m line \u001b[0;36m4\n\u001b[0;32m      <a href='vscode-notebook-cell:/c%3A/Users/simbj/OneDrive/Python/factor_modeling/factor_modelling_machine/code.ipynb#W0sZmlsZQ%3D%3D?line=0'>1</a>\u001b[0m \u001b[39m# Setting columns, choosing columns\u001b[39;00m\n\u001b[0;32m      <a href='vscode-notebook-cell:/c%3A/Users/simbj/OneDrive/Python/factor_modeling/factor_modelling_machine/code.ipynb#W0sZmlsZQ%3D%3D?line=2'>3</a>\u001b[0m cols \u001b[39m=\u001b[39m [\u001b[39m'\u001b[39m\u001b[39mexret\u001b[39m\u001b[39m'\u001b[39m, \u001b[39m'\u001b[39m\u001b[39mbeta\u001b[39m\u001b[39m'\u001b[39m, \u001b[39m'\u001b[39m\u001b[39mmvel1\u001b[39m\u001b[39m'\u001b[39m, \u001b[39m'\u001b[39m\u001b[39mbm\u001b[39m\u001b[39m'\u001b[39m, \u001b[39m'\u001b[39m\u001b[39mmom12m\u001b[39m\u001b[39m'\u001b[39m]  \u001b[39m# Fama-French-Carhart factors\u001b[39;00m\n\u001b[1;32m----> <a href='vscode-notebook-cell:/c%3A/Users/simbj/OneDrive/Python/factor_modeling/factor_modelling_machine/code.ipynb#W0sZmlsZQ%3D%3D?line=3'>4</a>\u001b[0m data_pivot \u001b[39m=\u001b[39m data[cols]\u001b[39m.\u001b[39munstack()\u001b[39m.\u001b[39mswaplevel(axis\u001b[39m=\u001b[39m\u001b[39m1\u001b[39m)\u001b[39m.\u001b[39msort_index(axis\u001b[39m=\u001b[39m\u001b[39m1\u001b[39m)\u001b[39m.\u001b[39mreindex(cols, axis\u001b[39m=\u001b[39m\u001b[39m1\u001b[39m, level\u001b[39m=\u001b[39m\u001b[39m1\u001b[39m)\n\u001b[0;32m      <a href='vscode-notebook-cell:/c%3A/Users/simbj/OneDrive/Python/factor_modeling/factor_modelling_machine/code.ipynb#W0sZmlsZQ%3D%3D?line=4'>5</a>\u001b[0m data_pivot\n",
      "File \u001b[1;32m~\\AppData\\Local\\Packages\\PythonSoftwareFoundation.Python.3.9_qbz5n2kfra8p0\\LocalCache\\local-packages\\Python39\\site-packages\\pandas\\core\\frame.py:3511\u001b[0m, in \u001b[0;36mDataFrame.__getitem__\u001b[1;34m(self, key)\u001b[0m\n\u001b[0;32m   3509\u001b[0m     \u001b[39mif\u001b[39;00m is_iterator(key):\n\u001b[0;32m   3510\u001b[0m         key \u001b[39m=\u001b[39m \u001b[39mlist\u001b[39m(key)\n\u001b[1;32m-> 3511\u001b[0m     indexer \u001b[39m=\u001b[39m \u001b[39mself\u001b[39;49m\u001b[39m.\u001b[39;49mcolumns\u001b[39m.\u001b[39;49m_get_indexer_strict(key, \u001b[39m\"\u001b[39;49m\u001b[39mcolumns\u001b[39;49m\u001b[39m\"\u001b[39;49m)[\u001b[39m1\u001b[39m]\n\u001b[0;32m   3513\u001b[0m \u001b[39m# take() does not accept boolean indexers\u001b[39;00m\n\u001b[0;32m   3514\u001b[0m \u001b[39mif\u001b[39;00m \u001b[39mgetattr\u001b[39m(indexer, \u001b[39m\"\u001b[39m\u001b[39mdtype\u001b[39m\u001b[39m\"\u001b[39m, \u001b[39mNone\u001b[39;00m) \u001b[39m==\u001b[39m \u001b[39mbool\u001b[39m:\n",
      "File \u001b[1;32m~\\AppData\\Local\\Packages\\PythonSoftwareFoundation.Python.3.9_qbz5n2kfra8p0\\LocalCache\\local-packages\\Python39\\site-packages\\pandas\\core\\indexes\\base.py:5796\u001b[0m, in \u001b[0;36mIndex._get_indexer_strict\u001b[1;34m(self, key, axis_name)\u001b[0m\n\u001b[0;32m   5793\u001b[0m \u001b[39melse\u001b[39;00m:\n\u001b[0;32m   5794\u001b[0m     keyarr, indexer, new_indexer \u001b[39m=\u001b[39m \u001b[39mself\u001b[39m\u001b[39m.\u001b[39m_reindex_non_unique(keyarr)\n\u001b[1;32m-> 5796\u001b[0m \u001b[39mself\u001b[39;49m\u001b[39m.\u001b[39;49m_raise_if_missing(keyarr, indexer, axis_name)\n\u001b[0;32m   5798\u001b[0m keyarr \u001b[39m=\u001b[39m \u001b[39mself\u001b[39m\u001b[39m.\u001b[39mtake(indexer)\n\u001b[0;32m   5799\u001b[0m \u001b[39mif\u001b[39;00m \u001b[39misinstance\u001b[39m(key, Index):\n\u001b[0;32m   5800\u001b[0m     \u001b[39m# GH 42790 - Preserve name from an Index\u001b[39;00m\n",
      "File \u001b[1;32m~\\AppData\\Local\\Packages\\PythonSoftwareFoundation.Python.3.9_qbz5n2kfra8p0\\LocalCache\\local-packages\\Python39\\site-packages\\pandas\\core\\indexes\\base.py:5859\u001b[0m, in \u001b[0;36mIndex._raise_if_missing\u001b[1;34m(self, key, indexer, axis_name)\u001b[0m\n\u001b[0;32m   5856\u001b[0m     \u001b[39mraise\u001b[39;00m \u001b[39mKeyError\u001b[39;00m(\u001b[39mf\u001b[39m\u001b[39m\"\u001b[39m\u001b[39mNone of [\u001b[39m\u001b[39m{\u001b[39;00mkey\u001b[39m}\u001b[39;00m\u001b[39m] are in the [\u001b[39m\u001b[39m{\u001b[39;00maxis_name\u001b[39m}\u001b[39;00m\u001b[39m]\u001b[39m\u001b[39m\"\u001b[39m)\n\u001b[0;32m   5858\u001b[0m not_found \u001b[39m=\u001b[39m \u001b[39mlist\u001b[39m(ensure_index(key)[missing_mask\u001b[39m.\u001b[39mnonzero()[\u001b[39m0\u001b[39m]]\u001b[39m.\u001b[39munique())\n\u001b[1;32m-> 5859\u001b[0m \u001b[39mraise\u001b[39;00m \u001b[39mKeyError\u001b[39;00m(\u001b[39mf\u001b[39m\u001b[39m\"\u001b[39m\u001b[39m{\u001b[39;00mnot_found\u001b[39m}\u001b[39;00m\u001b[39m not in index\u001b[39m\u001b[39m\"\u001b[39m)\n",
      "\u001b[1;31mKeyError\u001b[0m: \"['exret'] not in index\""
     ]
    }
   ],
   "source": [
    "# Setting columns, choosing columns\n",
    "\n",
    "cols = ['exret', 'beta', 'mvel1', 'bm', 'mom12m']  # Fama-French-Carhart factors\n",
    "data_pivot = data[cols].unstack().swaplevel(axis=1).sort_index(axis=1).reindex(cols, axis=1, level=1)\n",
    "data_pivot"
   ]
  },
  {
   "cell_type": "markdown",
   "metadata": {},
   "source": [
    "We build a cross-sectional OLS estimator with statsmodels for pandas DataFrame in Python."
   ]
  },
  {
   "cell_type": "code",
   "execution_count": null,
   "metadata": {},
   "outputs": [],
   "source": [
    "import statsmodels.api as sm\n",
    "\n",
    "def xs_ols(row_today):\n",
    "    '''Build a cross-sectional OLS model and output the coefficient slopes at each timestamp'''\n",
    "    \n",
    "    df = row_today.unstack()\n",
    "    df = df.dropna() # statesmodels OLS cannot handle missing values\n",
    "    try:  # in case of error\n",
    "        model = sm.OLS(df.iloc[:, 0], sm.add_constant(df.iloc[:, 1:])).fit()  \n",
    "        if model.nobs > 2*(len(df.columns)-1):   # make sure n > 2k, n obs and k factors\n",
    "            ans = np.r_[model.params.values, model.rsquared_adj, model.nobs] # output coeff and R2_adj & # of obs\n",
    "        else:\n",
    "            ans = np.empty((1, df.shape[1]+2)).flatten()\n",
    "            ans[-1] = model.nobs\n",
    "            ans[:-1] = np.nan\n",
    "    except:                     # output empty array\n",
    "        ans = np.empty((1, df.shape[1]+2)).flatten()\n",
    "        ans[:-1] = np.nan\n",
    "    return ans\n",
    "\n",
    "df_ols = data_pivot.loc['1975':].progress_apply(xs_ols, axis=1)\n",
    "df_ols = pd.DataFrame(np.stack(df_ols.values), index=df_ols.index, columns=['const']+cols[1:]+['Adj. R2', 'No. Obs'])\n",
    "df_ols"
   ]
  },
  {
   "cell_type": "code",
   "execution_count": null,
   "metadata": {},
   "outputs": [],
   "source": [
    "## Hello world, i am the git ###"
   ]
  },
  {
   "cell_type": "code",
   "execution_count": null,
   "metadata": {},
   "outputs": [],
   "source": []
  }
 ],
 "metadata": {
  "kernelspec": {
   "display_name": "Python 3",
   "language": "python",
   "name": "python3"
  },
  "language_info": {
   "codemirror_mode": {
    "name": "ipython",
    "version": 3
   },
   "file_extension": ".py",
   "mimetype": "text/x-python",
   "name": "python",
   "nbconvert_exporter": "python",
   "pygments_lexer": "ipython3",
   "version": "3.9.13"
  },
  "orig_nbformat": 4
 },
 "nbformat": 4,
 "nbformat_minor": 2
}
